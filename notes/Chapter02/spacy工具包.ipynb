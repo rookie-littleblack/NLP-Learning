{
 "cells": [
  {
   "cell_type": "markdown",
   "metadata": {},
   "source": [
    "# [spaCy](http://spacy.io/docs/#examples) 介绍"
   ]
  },
  {
   "cell_type": "code",
   "execution_count": 1,
   "metadata": {
    "collapsed": true
   },
   "outputs": [],
   "source": [
    "# 导入工具包和英文模型\n",
    "# python -m spacy download en 用管理员身份打开CMD\n",
    "\n",
    "import spacy\n",
    "nlp = spacy.load('en')"
   ]
  },
  {
   "cell_type": "markdown",
   "metadata": {},
   "source": [
    "### 文本处理"
   ]
  },
  {
   "cell_type": "code",
   "execution_count": 2,
   "metadata": {
    "collapsed": true
   },
   "outputs": [],
   "source": [
    "doc = nlp('Weather is good, very windy and sunny. We have no classes in the afternoon.')"
   ]
  },
  {
   "cell_type": "code",
   "execution_count": 3,
   "metadata": {},
   "outputs": [
    {
     "name": "stdout",
     "output_type": "stream",
     "text": [
      "Weather\n",
      "is\n",
      "good\n",
      ",\n",
      "very\n",
      "windy\n",
      "and\n",
      "sunny\n",
      ".\n",
      "We\n",
      "have\n",
      "no\n",
      "classes\n",
      "in\n",
      "the\n",
      "afternoon\n",
      ".\n"
     ]
    }
   ],
   "source": [
    "# 分词\n",
    "for token in doc:\n",
    "    print (token)"
   ]
  },
  {
   "cell_type": "code",
   "execution_count": 4,
   "metadata": {},
   "outputs": [
    {
     "name": "stdout",
     "output_type": "stream",
     "text": [
      "Weather is good, very windy and sunny.\n",
      "We have no classes in the afternoon.\n"
     ]
    }
   ],
   "source": [
    "#分句\n",
    "for sent in doc.sents:\n",
    "    print (sent)"
   ]
  },
  {
   "cell_type": "markdown",
   "metadata": {},
   "source": [
    "### 词性\n",
    "\n",
    "[参考链接](http://www.winwaed.com/blog/2011/11/08/part-of-speech-tags/)."
   ]
  },
  {
   "cell_type": "code",
   "execution_count": 5,
   "metadata": {},
   "outputs": [
    {
     "name": "stdout",
     "output_type": "stream",
     "text": [
      "Weather-PROPN\n",
      "is-VERB\n",
      "good-ADJ\n",
      ",-PUNCT\n",
      "very-ADV\n",
      "windy-ADJ\n",
      "and-CCONJ\n",
      "sunny-ADJ\n",
      ".-PUNCT\n",
      "We-PRON\n",
      "have-VERB\n",
      "no-DET\n",
      "classes-NOUN\n",
      "in-ADP\n",
      "the-DET\n",
      "afternoon-NOUN\n",
      ".-PUNCT\n"
     ]
    }
   ],
   "source": [
    "for token in doc:\n",
    "    print ('{}-{}'.format(token,token.pos_))"
   ]
  },
  {
   "cell_type": "markdown",
   "metadata": {},
   "source": [
    "## 命名体识别"
   ]
  },
  {
   "cell_type": "code",
   "execution_count": 6,
   "metadata": {},
   "outputs": [
    {
     "name": "stdout",
     "output_type": "stream",
     "text": [
      "Paris-GPE\n",
      "Jack-PERSON\n"
     ]
    }
   ],
   "source": [
    "doc_2 = nlp(\"I went to Paris where I met my old friend Jack from uni.\")\n",
    "for ent in doc_2.ents:\n",
    "    print ('{}-{}'.format(ent,ent.label_))"
   ]
  },
  {
   "cell_type": "code",
   "execution_count": 7,
   "metadata": {},
   "outputs": [
    {
     "data": {
      "text/html": [
       "<div class=\"entities\" style=\"line-height: 2.5\">I went to \n",
       "<mark class=\"entity\" style=\"background: #feca74; padding: 0.45em 0.6em; margin: 0 0.25em; line-height: 1; border-radius: 0.35em; box-decoration-break: clone; -webkit-box-decoration-break: clone\">\n",
       "    Paris\n",
       "    <span style=\"font-size: 0.8em; font-weight: bold; line-height: 1; border-radius: 0.35em; text-transform: uppercase; vertical-align: middle; margin-left: 0.5rem\">GPE</span>\n",
       "</mark>\n",
       " where I met my old friend \n",
       "<mark class=\"entity\" style=\"background: #aa9cfc; padding: 0.45em 0.6em; margin: 0 0.25em; line-height: 1; border-radius: 0.35em; box-decoration-break: clone; -webkit-box-decoration-break: clone\">\n",
       "    Jack\n",
       "    <span style=\"font-size: 0.8em; font-weight: bold; line-height: 1; border-radius: 0.35em; text-transform: uppercase; vertical-align: middle; margin-left: 0.5rem\">PERSON</span>\n",
       "</mark>\n",
       " from uni.</div>"
      ],
      "text/plain": [
       "<IPython.core.display.HTML object>"
      ]
     },
     "metadata": {},
     "output_type": "display_data"
    }
   ],
   "source": [
    "from spacy import displacy\n",
    " \n",
    "doc = nlp('I went to Paris where I met my old friend Jack from uni.')\n",
    "displacy.render(doc,style='ent',jupyter=True)"
   ]
  },
  {
   "cell_type": "markdown",
   "metadata": {},
   "source": [
    "### 找到书中所有人物名字"
   ]
  },
  {
   "cell_type": "code",
   "execution_count": 9,
   "metadata": {
    "collapsed": true
   },
   "outputs": [],
   "source": [
    "def read_file(file_name):\n",
    "    with open(file_name, 'r') as file:\n",
    "        return file.read()"
   ]
  },
  {
   "cell_type": "code",
   "execution_count": 10,
   "metadata": {},
   "outputs": [],
   "source": [
    "# 加载文本数据\n",
    "text = read_file('./data/pride_and_prejudice.txt')\n",
    "processed_text = nlp(text)"
   ]
  },
  {
   "cell_type": "code",
   "execution_count": 11,
   "metadata": {},
   "outputs": [
    {
     "name": "stdout",
     "output_type": "stream",
     "text": [
      "6469\n"
     ]
    }
   ],
   "source": [
    "sentences = [s for s in processed_text.sents]\n",
    "print (len(sentences))"
   ]
  },
  {
   "cell_type": "code",
   "execution_count": 12,
   "metadata": {},
   "outputs": [
    {
     "data": {
      "text/plain": [
       "[The Project Gutenberg EBook of Pride and Prejudice, by Jane Austen\n",
       " , This eBook is for the use of anyone anywhere at no cost and with\n",
       " almost no restrictions whatsoever.  , You may copy it, give it away or\n",
       " re-use it under the terms of the Project Gutenberg License included\n",
       " with this eBook or online at www.gutenberg.org\n",
       " \n",
       " \n",
       " Title: Pride and Prejudice\n",
       " \n",
       " Author: Jane Austen\n",
       " , Posting Date: August 26, 2008 [EBook #1342]\n",
       " Release Date: June, 1998, Last updated:]"
      ]
     },
     "execution_count": 12,
     "metadata": {},
     "output_type": "execute_result"
    }
   ],
   "source": [
    "sentences[:5]"
   ]
  },
  {
   "cell_type": "code",
   "execution_count": 23,
   "metadata": {},
   "outputs": [],
   "source": [
    "from collections import Counter,defaultdict"
   ]
  },
  {
   "cell_type": "code",
   "execution_count": 14,
   "metadata": {},
   "outputs": [
    {
     "name": "stdout",
     "output_type": "stream",
     "text": [
      "[('elizabeth', 604), ('darcy', 276), ('jane', 274), ('bennet', 233), ('bingley', 189), ('collins', 179), ('wickham', 170), ('gardiner', 95), ('lizzy', 94), ('lady catherine', 77)]\n"
     ]
    }
   ],
   "source": [
    "def find_person(doc):\n",
    "    c = Counter()\n",
    "    for ent in processed_text.ents:\n",
    "        if ent.label_ == 'PERSON':\n",
    "            c[ent.lemma_]+=1\n",
    "    return c.most_common(10)\n",
    "print (find_person(processed_text))"
   ]
  },
  {
   "cell_type": "markdown",
   "metadata": {},
   "source": [
    "### 恐怖袭击分析"
   ]
  },
  {
   "cell_type": "code",
   "execution_count": 15,
   "metadata": {
    "collapsed": true
   },
   "outputs": [],
   "source": [
    "def read_file_to_list(file_name):\n",
    "    with open(file_name, 'r') as file:\n",
    "        return file.readlines()"
   ]
  },
  {
   "cell_type": "code",
   "execution_count": 16,
   "metadata": {
    "collapsed": true
   },
   "outputs": [],
   "source": [
    "terrorism_articles = read_file_to_list('data/rand-terrorism-dataset.txt')"
   ]
  },
  {
   "cell_type": "code",
   "execution_count": 17,
   "metadata": {},
   "outputs": [
    {
     "data": {
      "text/plain": [
       "['CHILE.  An explosion from a single stick of dynamite went off on the patio of the Santiago Binational Center, causing $21,000 in damages.\\n',\n",
       " 'ISRAEL.  Palestinian terrorists fired five mortar shells into the collective settlement at Masada, causing slight damage but no injuries.\\n',\n",
       " 'GUATEMALA.  A bomb was thrown over the wall surrounding the U.S. Marines guards house in Guatemala City, causing damage but no injuries.\\n',\n",
       " 'FRANCE.  Five French students bombed the Paris offices of   Chase Manhattan Bank before dawn.  Trans-World Airways and the Bank of America were also bombed.   They claimed to be protesting the U.S. involvement in the Vietnam war.\\n',\n",
       " 'UNITED STATES - Unidentified anti-Castro Cubans attempted to bomb the Miami branch of the Spanish National Tourist Office.\\n']"
      ]
     },
     "execution_count": 17,
     "metadata": {},
     "output_type": "execute_result"
    }
   ],
   "source": [
    "terrorism_articles[:5]"
   ]
  },
  {
   "cell_type": "code",
   "execution_count": 36,
   "metadata": {
    "collapsed": true
   },
   "outputs": [],
   "source": [
    "terrorism_articles_nlp = [nlp(art) for art in terrorism_articles]"
   ]
  },
  {
   "cell_type": "code",
   "execution_count": 34,
   "metadata": {
    "collapsed": true
   },
   "outputs": [],
   "source": [
    "common_terrorist_groups = [\n",
    "    'taliban', \n",
    "    'al - qaeda', \n",
    "    'hamas',  \n",
    "    'fatah', \n",
    "    'plo', \n",
    "    'bilad al - rafidayn'\n",
    "]\n",
    "\n",
    "common_locations = [\n",
    "    'iraq',\n",
    "    'baghdad', \n",
    "    'kirkuk', \n",
    "    'mosul', \n",
    "    'afghanistan', \n",
    "    'kabul',\n",
    "    'basra', \n",
    "    'palestine', \n",
    "    'gaza', \n",
    "    'israel', \n",
    "    'istanbul', \n",
    "    'beirut', \n",
    "    'pakistan'\n",
    "]"
   ]
  },
  {
   "cell_type": "code",
   "execution_count": 38,
   "metadata": {},
   "outputs": [],
   "source": [
    "location_entity_dict = defaultdict(Counter)\n",
    "\n",
    "for article in terrorism_articles_nlp:\n",
    "    \n",
    "    article_terrorist_groups = [ent.lemma_ for ent in article.ents if ent.label_=='PERSON' or ent.label_ =='ORG']#人或者组织\n",
    "    article_locations = [ent.lemma_ for ent in article.ents if ent.label_=='GPE']\n",
    "    terrorist_common = [ent for ent in article_terrorist_groups if ent in common_terrorist_groups]\n",
    "    locations_common = [ent for ent in article_locations if ent in common_locations]\n",
    "    \n",
    "    for found_entity in terrorist_common:\n",
    "        for found_location in locations_common:\n",
    "            location_entity_dict[found_entity][found_location] += 1\n",
    "            "
   ]
  },
  {
   "cell_type": "code",
   "execution_count": 39,
   "metadata": {},
   "outputs": [
    {
     "data": {
      "text/plain": [
       "defaultdict(collections.Counter,\n",
       "            {'al - qaeda': Counter({'afghanistan': 6,\n",
       "                      'baghdad': 19,\n",
       "                      'iraq': 49,\n",
       "                      'israel': 1,\n",
       "                      'istanbul': 3,\n",
       "                      'kabul': 2,\n",
       "                      'kirkuk': 5,\n",
       "                      'mosul': 17,\n",
       "                      'pakistan': 6,\n",
       "                      'palestine': 3}),\n",
       "             'bilad al - rafidayn': Counter({'baghdad': 33,\n",
       "                      'basra': 4,\n",
       "                      'iraq': 23,\n",
       "                      'mosul': 4,\n",
       "                      'palestine': 6}),\n",
       "             'fatah': Counter({'beirut': 1,\n",
       "                      'gaza': 11,\n",
       "                      'iraq': 1,\n",
       "                      'israel': 19}),\n",
       "             'hamas': Counter({'beirut': 1, 'gaza': 70, 'israel': 27}),\n",
       "             'plo': Counter({'beirut': 12,\n",
       "                      'iraq': 8,\n",
       "                      'israel': 39,\n",
       "                      'palestine': 1}),\n",
       "             'taliban': Counter({'afghanistan': 266,\n",
       "                      'kabul': 49,\n",
       "                      'pakistan': 17})})"
      ]
     },
     "execution_count": 39,
     "metadata": {},
     "output_type": "execute_result"
    }
   ],
   "source": [
    "location_entity_dict"
   ]
  },
  {
   "cell_type": "code",
   "execution_count": 43,
   "metadata": {},
   "outputs": [
    {
     "data": {
      "text/html": [
       "<div>\n",
       "<style scoped>\n",
       "    .dataframe tbody tr th:only-of-type {\n",
       "        vertical-align: middle;\n",
       "    }\n",
       "\n",
       "    .dataframe tbody tr th {\n",
       "        vertical-align: top;\n",
       "    }\n",
       "\n",
       "    .dataframe thead th {\n",
       "        text-align: right;\n",
       "    }\n",
       "</style>\n",
       "<table border=\"1\" class=\"dataframe\">\n",
       "  <thead>\n",
       "    <tr style=\"text-align: right;\">\n",
       "      <th></th>\n",
       "      <th>plo</th>\n",
       "      <th>fatah</th>\n",
       "      <th>hamas</th>\n",
       "      <th>taliban</th>\n",
       "      <th>al - qaeda</th>\n",
       "      <th>bilad al - rafidayn</th>\n",
       "    </tr>\n",
       "  </thead>\n",
       "  <tbody>\n",
       "    <tr>\n",
       "      <th>afghanistan</th>\n",
       "      <td>0</td>\n",
       "      <td>0</td>\n",
       "      <td>0</td>\n",
       "      <td>266</td>\n",
       "      <td>6</td>\n",
       "      <td>0</td>\n",
       "    </tr>\n",
       "    <tr>\n",
       "      <th>baghdad</th>\n",
       "      <td>0</td>\n",
       "      <td>0</td>\n",
       "      <td>0</td>\n",
       "      <td>0</td>\n",
       "      <td>19</td>\n",
       "      <td>33</td>\n",
       "    </tr>\n",
       "    <tr>\n",
       "      <th>basra</th>\n",
       "      <td>0</td>\n",
       "      <td>0</td>\n",
       "      <td>0</td>\n",
       "      <td>0</td>\n",
       "      <td>0</td>\n",
       "      <td>4</td>\n",
       "    </tr>\n",
       "    <tr>\n",
       "      <th>beirut</th>\n",
       "      <td>12</td>\n",
       "      <td>1</td>\n",
       "      <td>1</td>\n",
       "      <td>0</td>\n",
       "      <td>0</td>\n",
       "      <td>0</td>\n",
       "    </tr>\n",
       "    <tr>\n",
       "      <th>gaza</th>\n",
       "      <td>0</td>\n",
       "      <td>11</td>\n",
       "      <td>70</td>\n",
       "      <td>0</td>\n",
       "      <td>0</td>\n",
       "      <td>0</td>\n",
       "    </tr>\n",
       "    <tr>\n",
       "      <th>iraq</th>\n",
       "      <td>8</td>\n",
       "      <td>1</td>\n",
       "      <td>0</td>\n",
       "      <td>0</td>\n",
       "      <td>49</td>\n",
       "      <td>23</td>\n",
       "    </tr>\n",
       "    <tr>\n",
       "      <th>israel</th>\n",
       "      <td>39</td>\n",
       "      <td>19</td>\n",
       "      <td>27</td>\n",
       "      <td>0</td>\n",
       "      <td>1</td>\n",
       "      <td>0</td>\n",
       "    </tr>\n",
       "    <tr>\n",
       "      <th>istanbul</th>\n",
       "      <td>0</td>\n",
       "      <td>0</td>\n",
       "      <td>0</td>\n",
       "      <td>0</td>\n",
       "      <td>3</td>\n",
       "      <td>0</td>\n",
       "    </tr>\n",
       "    <tr>\n",
       "      <th>kabul</th>\n",
       "      <td>0</td>\n",
       "      <td>0</td>\n",
       "      <td>0</td>\n",
       "      <td>49</td>\n",
       "      <td>2</td>\n",
       "      <td>0</td>\n",
       "    </tr>\n",
       "    <tr>\n",
       "      <th>kirkuk</th>\n",
       "      <td>0</td>\n",
       "      <td>0</td>\n",
       "      <td>0</td>\n",
       "      <td>0</td>\n",
       "      <td>5</td>\n",
       "      <td>0</td>\n",
       "    </tr>\n",
       "    <tr>\n",
       "      <th>mosul</th>\n",
       "      <td>0</td>\n",
       "      <td>0</td>\n",
       "      <td>0</td>\n",
       "      <td>0</td>\n",
       "      <td>17</td>\n",
       "      <td>4</td>\n",
       "    </tr>\n",
       "    <tr>\n",
       "      <th>pakistan</th>\n",
       "      <td>0</td>\n",
       "      <td>0</td>\n",
       "      <td>0</td>\n",
       "      <td>17</td>\n",
       "      <td>6</td>\n",
       "      <td>0</td>\n",
       "    </tr>\n",
       "    <tr>\n",
       "      <th>palestine</th>\n",
       "      <td>1</td>\n",
       "      <td>0</td>\n",
       "      <td>0</td>\n",
       "      <td>0</td>\n",
       "      <td>3</td>\n",
       "      <td>6</td>\n",
       "    </tr>\n",
       "  </tbody>\n",
       "</table>\n",
       "</div>"
      ],
      "text/plain": [
       "             plo  fatah  hamas  taliban  al - qaeda  bilad al - rafidayn\n",
       "afghanistan    0      0      0      266           6                    0\n",
       "baghdad        0      0      0        0          19                   33\n",
       "basra          0      0      0        0           0                    4\n",
       "beirut        12      1      1        0           0                    0\n",
       "gaza           0     11     70        0           0                    0\n",
       "iraq           8      1      0        0          49                   23\n",
       "israel        39     19     27        0           1                    0\n",
       "istanbul       0      0      0        0           3                    0\n",
       "kabul          0      0      0       49           2                    0\n",
       "kirkuk         0      0      0        0           5                    0\n",
       "mosul          0      0      0        0          17                    4\n",
       "pakistan       0      0      0       17           6                    0\n",
       "palestine      1      0      0        0           3                    6"
      ]
     },
     "execution_count": 43,
     "metadata": {},
     "output_type": "execute_result"
    }
   ],
   "source": [
    "import pandas as pd\n",
    "\n",
    "location_entity_df = pd.DataFrame.from_dict(dict(location_entity_dict),dtype=int)\n",
    "location_entity_df = location_entity_df.fillna(value = 0).astype(int)\n",
    "location_entity_df"
   ]
  },
  {
   "cell_type": "code",
   "execution_count": 45,
   "metadata": {},
   "outputs": [
    {
     "data": {
      "image/png": "[encoded data removed]",
      "text/plain": [
       "<matplotlib.figure.Figure at 0x2a302a36d30>"
      ]
     },
     "metadata": {},
     "output_type": "display_data"
    }
   ],
   "source": [
    "import matplotlib.pyplot as plt\n",
    "import seaborn as sns\n",
    "plt.figure(figsize=(12, 10))\n",
    "hmap = sns.heatmap(location_entity_df, annot=True, fmt='d', cmap='YlGnBu', cbar=False)\n",
    "\n",
    "# 添加信息\n",
    "plt.title('Global Incidents by Terrorist group')\n",
    "plt.xticks(rotation=30)\n",
    "plt.show()"
   ]
  },
  {
   "cell_type": "code",
   "execution_count": null,
   "metadata": {
    "collapsed": true
   },
   "outputs": [],
   "source": []
  }
 ],
 "metadata": {
  "kernelspec": {
   "display_name": "Python 3",
   "language": "python",
   "name": "python3"
  },
  "language_info": {
   "codemirror_mode": {
    "name": "ipython",
    "version": 3
   },
   "file_extension": ".py",
   "mimetype": "text/x-python",
   "name": "python",
   "nbconvert_exporter": "python",
   "pygments_lexer": "ipython3",
   "version": "3.6.3"
  }
 },
 "nbformat": 4,
 "nbformat_minor": 1
}
