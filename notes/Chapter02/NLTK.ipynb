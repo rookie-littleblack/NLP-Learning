{
 "cells": [
  {
   "cell_type": "markdown",
   "metadata": {},
   "source": [
    "### NLTK工具包安装"
   ]
  },
  {
   "cell_type": "markdown",
   "metadata": {},
   "source": [
    "非常实用的文本处理工具，主要用于英文数据，历史悠久~"
   ]
  },
  {
   "cell_type": "code",
   "execution_count": 1,
   "metadata": {},
   "outputs": [
    {
     "name": "stdout",
     "output_type": "stream",
     "text": [
      "showing info https://raw.githubusercontent.com/nltk/nltk_data/gh-pages/index.xml\n"
     ]
    },
    {
     "data": {
      "text/plain": [
       "True"
      ]
     },
     "execution_count": 1,
     "metadata": {},
     "output_type": "execute_result"
    }
   ],
   "source": [
    "import nltk #pip install nltk\n",
    "nltk.download()"
   ]
  },
  {
   "cell_type": "markdown",
   "metadata": {},
   "source": [
    "#### 分词"
   ]
  },
  {
   "cell_type": "code",
   "execution_count": 3,
   "metadata": {
    "collapsed": true
   },
   "outputs": [],
   "source": [
    "from nltk.tokenize import word_tokenize\n",
    "from nltk.text import Text"
   ]
  },
  {
   "cell_type": "code",
   "execution_count": 4,
   "metadata": {
    "collapsed": true
   },
   "outputs": [],
   "source": [
    "input_str = \"Today's weather is good, very windy and sunny, we have no classes in the afternoon,We have to play basketball tomorrow.\""
   ]
  },
  {
   "cell_type": "code",
   "execution_count": 6,
   "metadata": {},
   "outputs": [],
   "source": [
    "tokens = word_tokenize(input_str)"
   ]
  },
  {
   "cell_type": "code",
   "execution_count": 7,
   "metadata": {},
   "outputs": [
    {
     "data": {
      "text/plain": [
       "['today', \"'s\", 'weather', 'is', 'good']"
      ]
     },
     "execution_count": 7,
     "metadata": {},
     "output_type": "execute_result"
    }
   ],
   "source": [
    "tokens = [word.lower() for word in tokens]\n",
    "tokens[:5]"
   ]
  },
  {
   "cell_type": "markdown",
   "metadata": {},
   "source": [
    "#### Text对象"
   ]
  },
  {
   "cell_type": "code",
   "execution_count": 8,
   "metadata": {},
   "outputs": [
    {
     "name": "stdout",
     "output_type": "stream",
     "text": [
      "Help on module nltk.text in nltk:\n",
      "\n",
      "NAME\n",
      "    nltk.text\n",
      "\n",
      "DESCRIPTION\n",
      "    This module brings together a variety of NLTK functionality for\n",
      "    text analysis, and provides simple, interactive interfaces.\n",
      "    Functionality includes: concordancing, collocation discovery,\n",
      "    regular expression search over tokenized strings, and\n",
      "    distributional similarity.\n",
      "\n",
      "CLASSES\n",
      "    builtins.object\n",
      "        ConcordanceIndex\n",
      "        ContextIndex\n",
      "        Text\n",
      "            TextCollection\n",
      "        TokenSearcher\n",
      "    \n",
      "    class ConcordanceIndex(builtins.object)\n",
      "     |  An index that can be used to look up the offset locations at which\n",
      "     |  a given word occurs in a document.\n",
      "     |  \n",
      "     |  Methods defined here:\n",
      "     |  \n",
      "     |  __init__(self, tokens, key=<function ConcordanceIndex.<lambda> at 0x0000016AFF5A8D08>)\n",
      "     |      Construct a new concordance index.\n",
      "     |      \n",
      "     |      :param tokens: The document (list of tokens) that this\n",
      "     |          concordance index was created from.  This list can be used\n",
      "     |          to access the context of a given word occurrence.\n",
      "     |      :param key: A function that maps each token to a normalized\n",
      "     |          version that will be used as a key in the index.  E.g., if\n",
      "     |          you use ``key=lambda s:s.lower()``, then the index will be\n",
      "     |          case-insensitive.\n",
      "     |  \n",
      "     |  __repr__(self)\n",
      "     |      Return repr(self).\n",
      "     |  \n",
      "     |  __unicode__ = __str__(self, /)\n",
      "     |      Return str(self).\n",
      "     |  \n",
      "     |  offsets(self, word)\n",
      "     |      :rtype: list(int)\n",
      "     |      :return: A list of the offset positions at which the given\n",
      "     |          word occurs.  If a key function was specified for the\n",
      "     |          index, then given word's key will be looked up.\n",
      "     |  \n",
      "     |  print_concordance(self, word, width=75, lines=25)\n",
      "     |      Print a concordance for ``word`` with the specified context window.\n",
      "     |      \n",
      "     |      :param word: The target word\n",
      "     |      :type word: str\n",
      "     |      :param width: The width of each line, in characters (default=80)\n",
      "     |      :type width: int\n",
      "     |      :param lines: The number of lines to display (default=25)\n",
      "     |      :type lines: int\n",
      "     |  \n",
      "     |  tokens(self)\n",
      "     |      :rtype: list(str)\n",
      "     |      :return: The document that this concordance index was\n",
      "     |          created from.\n",
      "     |  \n",
      "     |  unicode_repr = __repr__(self)\n",
      "     |  \n",
      "     |  ----------------------------------------------------------------------\n",
      "     |  Data descriptors defined here:\n",
      "     |  \n",
      "     |  __dict__\n",
      "     |      dictionary for instance variables (if defined)\n",
      "     |  \n",
      "     |  __weakref__\n",
      "     |      list of weak references to the object (if defined)\n",
      "    \n",
      "    class ContextIndex(builtins.object)\n",
      "     |  A bidirectional index between words and their 'contexts' in a text.\n",
      "     |  The context of a word is usually defined to be the words that occur\n",
      "     |  in a fixed window around the word; but other definitions may also\n",
      "     |  be used by providing a custom context function.\n",
      "     |  \n",
      "     |  Methods defined here:\n",
      "     |  \n",
      "     |  __init__(self, tokens, context_func=None, filter=None, key=<function ContextIndex.<lambda> at 0x0000016AFF5A89D8>)\n",
      "     |      Initialize self.  See help(type(self)) for accurate signature.\n",
      "     |  \n",
      "     |  common_contexts(self, words, fail_on_unknown=False)\n",
      "     |      Find contexts where the specified words can all appear; and\n",
      "     |      return a frequency distribution mapping each context to the\n",
      "     |      number of times that context was used.\n",
      "     |      \n",
      "     |      :param words: The words used to seed the similarity search\n",
      "     |      :type words: str\n",
      "     |      :param fail_on_unknown: If true, then raise a value error if\n",
      "     |          any of the given words do not occur at all in the index.\n",
      "     |  \n",
      "     |  similar_words(self, word, n=20)\n",
      "     |  \n",
      "     |  tokens(self)\n",
      "     |      :rtype: list(str)\n",
      "     |      :return: The document that this context index was\n",
      "     |          created from.\n",
      "     |  \n",
      "     |  word_similarity_dict(self, word)\n",
      "     |      Return a dictionary mapping from words to 'similarity scores,'\n",
      "     |      indicating how often these two words occur in the same\n",
      "     |      context.\n",
      "     |  \n",
      "     |  ----------------------------------------------------------------------\n",
      "     |  Data descriptors defined here:\n",
      "     |  \n",
      "     |  __dict__\n",
      "     |      dictionary for instance variables (if defined)\n",
      "     |  \n",
      "     |  __weakref__\n",
      "     |      list of weak references to the object (if defined)\n",
      "    \n",
      "    class Text(builtins.object)\n",
      "     |  A wrapper around a sequence of simple (string) tokens, which is\n",
      "     |  intended to support initial exploration of texts (via the\n",
      "     |  interactive console).  Its methods perform a variety of analyses\n",
      "     |  on the text's contexts (e.g., counting, concordancing, collocation\n",
      "     |  discovery), and display the results.  If you wish to write a\n",
      "     |  program which makes use of these analyses, then you should bypass\n",
      "     |  the ``Text`` class, and use the appropriate analysis function or\n",
      "     |  class directly instead.\n",
      "     |  \n",
      "     |  A ``Text`` is typically initialized from a given document or\n",
      "     |  corpus.  E.g.:\n",
      "     |  \n",
      "     |  >>> import nltk.corpus\n",
      "     |  >>> from nltk.text import Text\n",
      "     |  >>> moby = Text(nltk.corpus.gutenberg.words('melville-moby_dick.txt'))\n",
      "     |  \n",
      "     |  Methods defined here:\n",
      "     |  \n",
      "     |  __getitem__(self, i)\n",
      "     |  \n",
      "     |  __init__(self, tokens, name=None)\n",
      "     |      Create a Text object.\n",
      "     |      \n",
      "     |      :param tokens: The source text.\n",
      "     |      :type tokens: sequence of str\n",
      "     |  \n",
      "     |  __len__(self)\n",
      "     |  \n",
      "     |  __repr__(self)\n",
      "     |      Return repr(self).\n",
      "     |  \n",
      "     |  __str__(self)\n",
      "     |      Return str(self).\n",
      "     |  \n",
      "     |  __unicode__ = __str__(self)\n",
      "     |  \n",
      "     |  collocations(self, num=20, window_size=2)\n",
      "     |      Print collocations derived from the text, ignoring stopwords.\n",
      "     |      \n",
      "     |      :seealso: find_collocations\n",
      "     |      :param num: The maximum number of collocations to print.\n",
      "     |      :type num: int\n",
      "     |      :param window_size: The number of tokens spanned by a collocation (default=2)\n",
      "     |      :type window_size: int\n",
      "     |  \n",
      "     |  common_contexts(self, words, num=20)\n",
      "     |      Find contexts where the specified words appear; list\n",
      "     |      most frequent common contexts first.\n",
      "     |      \n",
      "     |      :param word: The word used to seed the similarity search\n",
      "     |      :type word: str\n",
      "     |      :param num: The number of words to generate (default=20)\n",
      "     |      :type num: int\n",
      "     |      :seealso: ContextIndex.common_contexts()\n",
      "     |  \n",
      "     |  concordance(self, word, width=79, lines=25)\n",
      "     |      Print a concordance for ``word`` with the specified context window.\n",
      "     |      Word matching is not case-sensitive.\n",
      "     |      :seealso: ``ConcordanceIndex``\n",
      "     |  \n",
      "     |  count(self, word)\n",
      "     |      Count the number of times this word appears in the text.\n",
      "     |  \n",
      "     |  dispersion_plot(self, words)\n",
      "     |      Produce a plot showing the distribution of the words through the text.\n",
      "     |      Requires pylab to be installed.\n",
      "     |      \n",
      "     |      :param words: The words to be plotted\n",
      "     |      :type words: list(str)\n",
      "     |      :seealso: nltk.draw.dispersion_plot()\n",
      "     |  \n",
      "     |  findall(self, regexp)\n",
      "     |      Find instances of the regular expression in the text.\n",
      "     |      The text is a list of tokens, and a regexp pattern to match\n",
      "     |      a single token must be surrounded by angle brackets.  E.g.\n",
      "     |      \n",
      "     |      >>> print('hack'); from nltk.book import text1, text5, text9\n",
      "     |      hack...\n",
      "     |      >>> text5.findall(\"<.*><.*><bro>\")\n",
      "     |      you rule bro; telling you bro; u twizted bro\n",
      "     |      >>> text1.findall(\"<a>(<.*>)<man>\")\n",
      "     |      monied; nervous; dangerous; white; white; white; pious; queer; good;\n",
      "     |      mature; white; Cape; great; wise; wise; butterless; white; fiendish;\n",
      "     |      pale; furious; better; certain; complete; dismasted; younger; brave;\n",
      "     |      brave; brave; brave\n",
      "     |      >>> text9.findall(\"<th.*>{3,}\")\n",
      "     |      thread through those; the thought that; that the thing; the thing\n",
      "     |      that; that that thing; through these than through; them that the;\n",
      "     |      through the thick; them that they; thought that the\n",
      "     |      \n",
      "     |      :param regexp: A regular expression\n",
      "     |      :type regexp: str\n",
      "     |  \n",
      "     |  generate(self, words)\n",
      "     |      Issues a reminder to users following the book online\n",
      "     |  \n",
      "     |  index(self, word)\n",
      "     |      Find the index of the first occurrence of the word in the text.\n",
      "     |  \n",
      "     |  plot(self, *args)\n",
      "     |      See documentation for FreqDist.plot()\n",
      "     |      :seealso: nltk.prob.FreqDist.plot()\n",
      "     |  \n",
      "     |  readability(self, method)\n",
      "     |  \n",
      "     |  similar(self, word, num=20)\n",
      "     |      Distributional similarity: find other words which appear in the\n",
      "     |      same contexts as the specified word; list most similar words first.\n",
      "     |      \n",
      "     |      :param word: The word used to seed the similarity search\n",
      "     |      :type word: str\n",
      "     |      :param num: The number of words to generate (default=20)\n",
      "     |      :type num: int\n",
      "     |      :seealso: ContextIndex.similar_words()\n",
      "     |  \n",
      "     |  unicode_repr = __repr__(self)\n",
      "     |  \n",
      "     |  vocab(self)\n",
      "     |      :seealso: nltk.prob.FreqDist\n",
      "     |  \n",
      "     |  ----------------------------------------------------------------------\n",
      "     |  Data descriptors defined here:\n",
      "     |  \n",
      "     |  __dict__\n",
      "     |      dictionary for instance variables (if defined)\n",
      "     |  \n",
      "     |  __weakref__\n",
      "     |      list of weak references to the object (if defined)\n",
      "    \n",
      "    class TextCollection(Text)\n",
      "     |  A collection of texts, which can be loaded with list of texts, or\n",
      "     |  with a corpus consisting of one or more texts, and which supports\n",
      "     |  counting, concordancing, collocation discovery, etc.  Initialize a\n",
      "     |  TextCollection as follows:\n",
      "     |  \n",
      "     |  >>> import nltk.corpus\n",
      "     |  >>> from nltk.text import TextCollection\n",
      "     |  >>> print('hack'); from nltk.book import text1, text2, text3\n",
      "     |  hack...\n",
      "     |  >>> gutenberg = TextCollection(nltk.corpus.gutenberg)\n",
      "     |  >>> mytexts = TextCollection([text1, text2, text3])\n",
      "     |  \n",
      "     |  Iterating over a TextCollection produces all the tokens of all the\n",
      "     |  texts in order.\n",
      "     |  \n",
      "     |  Method resolution order:\n",
      "     |      TextCollection\n",
      "     |      Text\n",
      "     |      builtins.object\n",
      "     |  \n",
      "     |  Methods defined here:\n",
      "     |  \n",
      "     |  __init__(self, source)\n",
      "     |      Create a Text object.\n",
      "     |      \n",
      "     |      :param tokens: The source text.\n",
      "     |      :type tokens: sequence of str\n",
      "     |  \n",
      "     |  idf(self, term)\n",
      "     |      The number of texts in the corpus divided by the\n",
      "     |      number of texts that the term appears in.\n",
      "     |      If a term does not appear in the corpus, 0.0 is returned.\n",
      "     |  \n",
      "     |  tf(self, term, text)\n",
      "     |      The frequency of the term in text.\n",
      "     |  \n",
      "     |  tf_idf(self, term, text)\n",
      "     |  \n",
      "     |  ----------------------------------------------------------------------\n",
      "     |  Methods inherited from Text:\n",
      "     |  \n",
      "     |  __getitem__(self, i)\n",
      "     |  \n",
      "     |  __len__(self)\n",
      "     |  \n",
      "     |  __repr__(self)\n",
      "     |      Return repr(self).\n",
      "     |  \n",
      "     |  __str__(self)\n",
      "     |      Return str(self).\n",
      "     |  \n",
      "     |  __unicode__ = __str__(self)\n",
      "     |      Return str(self).\n",
      "     |  \n",
      "     |  collocations(self, num=20, window_size=2)\n",
      "     |      Print collocations derived from the text, ignoring stopwords.\n",
      "     |      \n",
      "     |      :seealso: find_collocations\n",
      "     |      :param num: The maximum number of collocations to print.\n",
      "     |      :type num: int\n",
      "     |      :param window_size: The number of tokens spanned by a collocation (default=2)\n",
      "     |      :type window_size: int\n",
      "     |  \n",
      "     |  common_contexts(self, words, num=20)\n",
      "     |      Find contexts where the specified words appear; list\n",
      "     |      most frequent common contexts first.\n",
      "     |      \n",
      "     |      :param word: The word used to seed the similarity search\n",
      "     |      :type word: str\n",
      "     |      :param num: The number of words to generate (default=20)\n",
      "     |      :type num: int\n",
      "     |      :seealso: ContextIndex.common_contexts()\n",
      "     |  \n",
      "     |  concordance(self, word, width=79, lines=25)\n",
      "     |      Print a concordance for ``word`` with the specified context window.\n",
      "     |      Word matching is not case-sensitive.\n",
      "     |      :seealso: ``ConcordanceIndex``\n",
      "     |  \n",
      "     |  count(self, word)\n",
      "     |      Count the number of times this word appears in the text.\n",
      "     |  \n",
      "     |  dispersion_plot(self, words)\n",
      "     |      Produce a plot showing the distribution of the words through the text.\n",
      "     |      Requires pylab to be installed.\n",
      "     |      \n",
      "     |      :param words: The words to be plotted\n",
      "     |      :type words: list(str)\n",
      "     |      :seealso: nltk.draw.dispersion_plot()\n",
      "     |  \n",
      "     |  findall(self, regexp)\n",
      "     |      Find instances of the regular expression in the text.\n",
      "     |      The text is a list of tokens, and a regexp pattern to match\n",
      "     |      a single token must be surrounded by angle brackets.  E.g.\n",
      "     |      \n",
      "     |      >>> print('hack'); from nltk.book import text1, text5, text9\n",
      "     |      hack...\n",
      "     |      >>> text5.findall(\"<.*><.*><bro>\")\n",
      "     |      you rule bro; telling you bro; u twizted bro\n",
      "     |      >>> text1.findall(\"<a>(<.*>)<man>\")\n",
      "     |      monied; nervous; dangerous; white; white; white; pious; queer; good;\n",
      "     |      mature; white; Cape; great; wise; wise; butterless; white; fiendish;\n",
      "     |      pale; furious; better; certain; complete; dismasted; younger; brave;\n",
      "     |      brave; brave; brave\n",
      "     |      >>> text9.findall(\"<th.*>{3,}\")\n",
      "     |      thread through those; the thought that; that the thing; the thing\n",
      "     |      that; that that thing; through these than through; them that the;\n",
      "     |      through the thick; them that they; thought that the\n",
      "     |      \n",
      "     |      :param regexp: A regular expression\n",
      "     |      :type regexp: str\n",
      "     |  \n",
      "     |  generate(self, words)\n",
      "     |      Issues a reminder to users following the book online\n",
      "     |  \n",
      "     |  index(self, word)\n",
      "     |      Find the index of the first occurrence of the word in the text.\n",
      "     |  \n",
      "     |  plot(self, *args)\n",
      "     |      See documentation for FreqDist.plot()\n",
      "     |      :seealso: nltk.prob.FreqDist.plot()\n",
      "     |  \n",
      "     |  readability(self, method)\n",
      "     |  \n",
      "     |  similar(self, word, num=20)\n",
      "     |      Distributional similarity: find other words which appear in the\n",
      "     |      same contexts as the specified word; list most similar words first.\n",
      "     |      \n",
      "     |      :param word: The word used to seed the similarity search\n",
      "     |      :type word: str\n",
      "     |      :param num: The number of words to generate (default=20)\n",
      "     |      :type num: int\n",
      "     |      :seealso: ContextIndex.similar_words()\n",
      "     |  \n",
      "     |  unicode_repr = __repr__(self)\n",
      "     |      Return repr(self).\n",
      "     |  \n",
      "     |  vocab(self)\n",
      "     |      :seealso: nltk.prob.FreqDist\n",
      "     |  \n",
      "     |  ----------------------------------------------------------------------\n",
      "     |  Data descriptors inherited from Text:\n",
      "     |  \n",
      "     |  __dict__\n",
      "     |      dictionary for instance variables (if defined)\n",
      "     |  \n",
      "     |  __weakref__\n",
      "     |      list of weak references to the object (if defined)\n",
      "    \n",
      "    class TokenSearcher(builtins.object)\n",
      "     |  A class that makes it easier to use regular expressions to search\n",
      "     |  over tokenized strings.  The tokenized string is converted to a\n",
      "     |  string where tokens are marked with angle brackets -- e.g.,\n",
      "     |  ``'<the><window><is><still><open>'``.  The regular expression\n",
      "     |  passed to the ``findall()`` method is modified to treat angle\n",
      "     |  brackets as non-capturing parentheses, in addition to matching the\n",
      "     |  token boundaries; and to have ``'.'`` not match the angle brackets.\n",
      "     |  \n",
      "     |  Methods defined here:\n",
      "     |  \n",
      "     |  __init__(self, tokens)\n",
      "     |      Initialize self.  See help(type(self)) for accurate signature.\n",
      "     |  \n",
      "     |  findall(self, regexp)\n",
      "     |      Find instances of the regular expression in the text.\n",
      "     |      The text is a list of tokens, and a regexp pattern to match\n",
      "     |      a single token must be surrounded by angle brackets.  E.g.\n",
      "     |      \n",
      "     |      >>> from nltk.text import TokenSearcher\n",
      "     |      >>> print('hack'); from nltk.book import text1, text5, text9\n",
      "     |      hack...\n",
      "     |      >>> text5.findall(\"<.*><.*><bro>\")\n",
      "     |      you rule bro; telling you bro; u twizted bro\n",
      "     |      >>> text1.findall(\"<a>(<.*>)<man>\")\n",
      "     |      monied; nervous; dangerous; white; white; white; pious; queer; good;\n",
      "     |      mature; white; Cape; great; wise; wise; butterless; white; fiendish;\n",
      "     |      pale; furious; better; certain; complete; dismasted; younger; brave;\n",
      "     |      brave; brave; brave\n",
      "     |      >>> text9.findall(\"<th.*>{3,}\")\n",
      "     |      thread through those; the thought that; that the thing; the thing\n",
      "     |      that; that that thing; through these than through; them that the;\n",
      "     |      through the thick; them that they; thought that the\n",
      "     |      \n",
      "     |      :param regexp: A regular expression\n",
      "     |      :type regexp: str\n",
      "     |  \n",
      "     |  ----------------------------------------------------------------------\n",
      "     |  Data descriptors defined here:\n",
      "     |  \n",
      "     |  __dict__\n",
      "     |      dictionary for instance variables (if defined)\n",
      "     |  \n",
      "     |  __weakref__\n",
      "     |      list of weak references to the object (if defined)\n",
      "\n",
      "DATA\n",
      "    __all__ = ['ContextIndex', 'ConcordanceIndex', 'TokenSearcher', 'Text'...\n",
      "\n",
      "FILE\n",
      "    e:\\programdata\\anaconda3\\lib\\site-packages\\nltk\\text.py\n",
      "\n",
      "\n"
     ]
    }
   ],
   "source": [
    "help(nltk.text)"
   ]
  },
  {
   "cell_type": "markdown",
   "metadata": {},
   "source": [
    "创建一个Text对象，方便后续操作"
   ]
  },
  {
   "cell_type": "code",
   "execution_count": 9,
   "metadata": {
    "collapsed": true
   },
   "outputs": [],
   "source": [
    "t = Text(tokens)"
   ]
  },
  {
   "cell_type": "code",
   "execution_count": 11,
   "metadata": {},
   "outputs": [
    {
     "data": {
      "text/plain": [
       "1"
      ]
     },
     "execution_count": 11,
     "metadata": {},
     "output_type": "execute_result"
    }
   ],
   "source": [
    "t.count('good')"
   ]
  },
  {
   "cell_type": "code",
   "execution_count": 12,
   "metadata": {},
   "outputs": [
    {
     "data": {
      "text/plain": [
       "4"
      ]
     },
     "execution_count": 12,
     "metadata": {},
     "output_type": "execute_result"
    }
   ],
   "source": [
    "t.index('good')"
   ]
  },
  {
   "cell_type": "code",
   "execution_count": 13,
   "metadata": {},
   "outputs": [
    {
     "data": {
      "image/png": "[encoded data removed]",
      "text/plain": [
       "<matplotlib.figure.Figure at 0x16afb6e5da0>"
      ]
     },
     "metadata": {},
     "output_type": "display_data"
    }
   ],
   "source": [
    "t.plot(8)"
   ]
  },
  {
   "cell_type": "markdown",
   "metadata": {},
   "source": [
    "#### 停用词"
   ]
  },
  {
   "cell_type": "markdown",
   "metadata": {},
   "source": [
    "可以看一下说明中的介绍"
   ]
  },
  {
   "cell_type": "code",
   "execution_count": 15,
   "metadata": {},
   "outputs": [
    {
     "data": {
      "text/plain": [
       "'Stopwords Corpus  This corpus contains lists of stop words for several languages.  These are high-frequency grammatical words which are usually ignored in text retrieval applications.  They were obtained from: http://anoncvs.postgresql.org/cvsweb.cgi/pgsql/src/backend/snowball/stopwords/  The stop words for the Romanian language were obtained from: http://arlc.ro/resources/  The English list has been augmented https://github.com/nltk/nltk_data/issues/22  The German list has been corrected https://github.com/nltk/nltk_data/pull/49  A Kazakh list has been added https://github.com/nltk/nltk_data/pull/52  A Nepali list has been added https://github.com/nltk/nltk_data/pull/83  An Azerbaijani list has been added https://github.com/nltk/nltk_data/pull/100  A Greek list has been added https://github.com/nltk/nltk_data/pull/103    '"
      ]
     },
     "execution_count": 15,
     "metadata": {},
     "output_type": "execute_result"
    }
   ],
   "source": [
    "from nltk.corpus import stopwords\n",
    "stopwords.readme().replace('\\n', ' ')"
   ]
  },
  {
   "cell_type": "code",
   "execution_count": 16,
   "metadata": {},
   "outputs": [
    {
     "data": {
      "text/plain": [
       "['arabic',\n",
       " 'azerbaijani',\n",
       " 'danish',\n",
       " 'dutch',\n",
       " 'english',\n",
       " 'finnish',\n",
       " 'french',\n",
       " 'german',\n",
       " 'greek',\n",
       " 'hungarian',\n",
       " 'italian',\n",
       " 'kazakh',\n",
       " 'nepali',\n",
       " 'norwegian',\n",
       " 'portuguese',\n",
       " 'romanian',\n",
       " 'russian',\n",
       " 'spanish',\n",
       " 'swedish',\n",
       " 'turkish']"
      ]
     },
     "execution_count": 16,
     "metadata": {},
     "output_type": "execute_result"
    }
   ],
   "source": [
    "stopwords.fileids()"
   ]
  },
  {
   "cell_type": "code",
   "execution_count": 21,
   "metadata": {},
   "outputs": [
    {
     "data": {
      "text/plain": [
       "\"i me my myself we our ours ourselves you you're you've you'll you'd your yours yourself yourselves he him his himself she she's her hers herself it it's its itself they them their theirs themselves what which who whom this that that'll these those am is are was were be been being have has had having do does did doing a an the and but if or because as until while of at by for with about against between into through during before after above below to from up down in out on off over under again further then once here there when where why how all any both each few more most other some such no nor not only own same so than too very s t can will just don don't should should've now d ll m o re ve y ain aren aren't couldn couldn't didn didn't doesn doesn't hadn hadn't hasn hasn't haven haven't isn isn't ma mightn mightn't mustn mustn't needn needn't shan shan't shouldn shouldn't wasn wasn't weren weren't won won't wouldn wouldn't \""
      ]
     },
     "execution_count": 21,
     "metadata": {},
     "output_type": "execute_result"
    }
   ],
   "source": [
    "stopwords.raw('english').replace('\\n',' ')"
   ]
  },
  {
   "cell_type": "code",
   "execution_count": 22,
   "metadata": {
    "collapsed": true
   },
   "outputs": [],
   "source": [
    "test_words = [word.lower() for word in tokens]\n",
    "test_words_set = set(test_words)"
   ]
  },
  {
   "cell_type": "code",
   "execution_count": 23,
   "metadata": {},
   "outputs": [
    {
     "data": {
      "text/plain": [
       "{'and', 'have', 'in', 'is', 'no', 'the', 'to', 'very', 'we'}"
      ]
     },
     "execution_count": 23,
     "metadata": {},
     "output_type": "execute_result"
    }
   ],
   "source": [
    "test_words_set.intersection(set(stopwords.words('english')))"
   ]
  },
  {
   "cell_type": "markdown",
   "metadata": {},
   "source": [
    "#### 过滤掉停用词"
   ]
  },
  {
   "cell_type": "code",
   "execution_count": 24,
   "metadata": {
    "collapsed": true
   },
   "outputs": [],
   "source": [
    "filtered = [w for w in test_words_set if(w not in stopwords.words('english'))]"
   ]
  },
  {
   "cell_type": "code",
   "execution_count": 25,
   "metadata": {},
   "outputs": [
    {
     "data": {
      "text/plain": [
       "['today',\n",
       " 'good',\n",
       " 'windy',\n",
       " 'sunny',\n",
       " 'afternoon',\n",
       " 'play',\n",
       " 'basketball',\n",
       " 'tomorrow',\n",
       " 'weather',\n",
       " 'classes',\n",
       " ',',\n",
       " '.',\n",
       " \"'s\"]"
      ]
     },
     "execution_count": 25,
     "metadata": {},
     "output_type": "execute_result"
    }
   ],
   "source": [
    "filtered"
   ]
  },
  {
   "cell_type": "markdown",
   "metadata": {},
   "source": [
    "#### 词性标注"
   ]
  },
  {
   "cell_type": "code",
   "execution_count": 26,
   "metadata": {},
   "outputs": [
    {
     "name": "stdout",
     "output_type": "stream",
     "text": [
      "showing info https://raw.githubusercontent.com/nltk/nltk_data/gh-pages/index.xml\n"
     ]
    },
    {
     "data": {
      "text/plain": [
       "True"
      ]
     },
     "execution_count": 26,
     "metadata": {},
     "output_type": "execute_result"
    }
   ],
   "source": [
    "nltk.download() #第三个"
   ]
  },
  {
   "cell_type": "code",
   "execution_count": 27,
   "metadata": {},
   "outputs": [
    {
     "data": {
      "text/plain": [
       "[('today', 'NN'),\n",
       " (\"'s\", 'POS'),\n",
       " ('weather', 'NN'),\n",
       " ('is', 'VBZ'),\n",
       " ('good', 'JJ'),\n",
       " (',', ','),\n",
       " ('very', 'RB'),\n",
       " ('windy', 'JJ'),\n",
       " ('and', 'CC'),\n",
       " ('sunny', 'JJ'),\n",
       " (',', ','),\n",
       " ('we', 'PRP'),\n",
       " ('have', 'VBP'),\n",
       " ('no', 'DT'),\n",
       " ('classes', 'NNS'),\n",
       " ('in', 'IN'),\n",
       " ('the', 'DT'),\n",
       " ('afternoon', 'NN'),\n",
       " (',', ','),\n",
       " ('we', 'PRP'),\n",
       " ('have', 'VBP'),\n",
       " ('to', 'TO'),\n",
       " ('play', 'VB'),\n",
       " ('basketball', 'NN'),\n",
       " ('tomorrow', 'NN'),\n",
       " ('.', '.')]"
      ]
     },
     "execution_count": 27,
     "metadata": {},
     "output_type": "execute_result"
    }
   ],
   "source": [
    "from nltk import pos_tag\n",
    "tags = pos_tag(tokens)\n",
    "tags"
   ]
  },
  {
   "cell_type": "markdown",
   "metadata": {},
   "source": [
    "| POS Tag |指代 |\n",
    "| --- | --- |\n",
    "| CC | 并列连词 |\n",
    "| CD | 基数词 |\n",
    "| DT | 限定符|\n",
    "| EX | 存在词|\n",
    "| FW |外来词 |\n",
    "| IN | 介词或从属连词|\n",
    "| JJ | 形容词 |\n",
    "| JJR | 比较级的形容词  |\n",
    "| JJS | 最高级的形容词 |\n",
    "| LS | 列表项标记 |\n",
    "| MD | 情态动词 |\n",
    "| NN |名词单数|\n",
    "| NNS | 名词复数  |\n",
    "| NNP |专有名词|\n",
    "| PDT | 前置限定词 |\n",
    "| POS | 所有格结尾|\n",
    "| PRP | 人称代词  |\n",
    "| PRP$ | 所有格代词 |\n",
    "| RB |副词 |\n",
    "| RBR | 副词比较级 |\n",
    "| RBS | 副词最高级 |\n",
    "| RP | 小品词 |\n",
    "| UH | 感叹词 |\n",
    "| VB |动词原型 |\n",
    "| VBD | 动词过去式 |\n",
    "| VBG |动名词或现在分词 |\n",
    "| VBN |动词过去分词|\n",
    "| VBP |非第三人称单数的现在时|\n",
    "| VBZ | 第三人称单数的现在时 |\n",
    "| WDT |以wh开头的限定词 |"
   ]
  },
  {
   "cell_type": "markdown",
   "metadata": {},
   "source": [
    "#### 分块"
   ]
  },
  {
   "cell_type": "code",
   "execution_count": 28,
   "metadata": {
    "collapsed": true
   },
   "outputs": [],
   "source": [
    "from nltk.chunk import RegexpParser"
   ]
  },
  {
   "cell_type": "code",
   "execution_count": 29,
   "metadata": {},
   "outputs": [
    {
     "name": "stdout",
     "output_type": "stream",
     "text": [
      "(S (MY_NP the/DT little/JJ yellow/JJ dog/NN) died/VBD)\n"
     ]
    }
   ],
   "source": [
    "sentence = [('the','DT'),('little','JJ'),('yellow','JJ'),('dog','NN'),('died','VBD')]\n",
    "grammer = \"MY_NP: {<DT>?<JJ>*<NN>}\"\n",
    "cp = nltk.RegexpParser(grammer) #生成规则\n",
    "result = cp.parse(sentence) #进行分块\n",
    "print(result)\n",
    "\n",
    "result.draw() #调用matplotlib库画出来"
   ]
  },
  {
   "cell_type": "markdown",
   "metadata": {},
   "source": [
    "#### 命名实体识别"
   ]
  },
  {
   "cell_type": "code",
   "execution_count": 30,
   "metadata": {},
   "outputs": [
    {
     "name": "stdout",
     "output_type": "stream",
     "text": [
      "showing info https://raw.githubusercontent.com/nltk/nltk_data/gh-pages/index.xml\n"
     ]
    },
    {
     "data": {
      "text/plain": [
       "True"
      ]
     },
     "execution_count": 30,
     "metadata": {},
     "output_type": "execute_result"
    }
   ],
   "source": [
    "nltk.download() \n",
    "#maxent_ne_chunke\n",
    "#words"
   ]
  },
  {
   "cell_type": "code",
   "execution_count": 71,
   "metadata": {},
   "outputs": [
    {
     "name": "stdout",
     "output_type": "stream",
     "text": [
      "(S\n",
      "  (PERSON Edison/NNP)\n",
      "  went/VBD\n",
      "  to/TO\n",
      "  (ORGANIZATION Tsinghua/NNP University/NNP)\n",
      "  today/NN\n",
      "  ./.)\n"
     ]
    }
   ],
   "source": [
    "from nltk import ne_chunk\n",
    "sentence = \"Edison went to Tsinghua University today.\"\n",
    "print(ne_chunk(pos_tag(word_tokenize(sentence))))"
   ]
  },
  {
   "cell_type": "markdown",
   "metadata": {},
   "source": [
    "#### 数据清洗实例"
   ]
  },
  {
   "cell_type": "code",
   "execution_count": 36,
   "metadata": {},
   "outputs": [
    {
     "name": "stdout",
     "output_type": "stream",
     "text": [
      "原始数据:     RT @Amila #Test\n",
      "Tom's newly listed Co  &amp; Mary's unlisted     Group to supply tech for nlTK.\n",
      "h $TSLA $AAPL https:// t.co/x34afsfQsh \n",
      "\n",
      "去掉特殊标签后的:     RT  \n",
      "Tom's newly listed Co   Mary's unlisted     Group to supply tech for nlTK.\n",
      "h $TSLA $AAPL https:// t.co/x34afsfQsh \n",
      "\n",
      "去掉价值符号后的:     RT  \n",
      "Tom's newly listed Co   Mary's unlisted     Group to supply tech for nlTK.\n",
      "h   https:// t.co/x34afsfQsh \n",
      "\n",
      "去掉超链接后的:     RT  \n",
      "Tom's newly listed Co   Mary's unlisted     Group to supply tech for nlTK.\n",
      "h    \n",
      "\n",
      "去掉专门名词缩写后:       \n",
      "Tom' newly listed    Mary' unlisted     Group  supply tech for nlTK.\n",
      "    \n",
      "\n",
      "去掉空格后的: Tom' newly listed Mary' unlisted Group supply tech for nlTK.  \n",
      "\n",
      "分词结果: ['Tom', \"'\", 'newly', 'listed', 'Mary', \"'\", 'unlisted', 'Group', 'supply', 'tech', 'for', 'nlTK', '.'] \n",
      "\n",
      "去停用词后结果: ['Tom', \"'\", 'newly', 'listed', 'Mary', \"'\", 'unlisted', 'Group', 'supply', 'tech', 'nlTK', '.'] \n",
      "\n",
      "过滤后: Tom ' newly listed Mary ' unlisted Group supply tech nlTK .\n"
     ]
    }
   ],
   "source": [
    "import re\n",
    "from nltk.corpus import stopwords\n",
    "# 输入数据\n",
    "s = '    RT @Amila #Test\\nTom\\'s newly listed Co  &amp; Mary\\'s unlisted     Group to supply tech for nlTK.\\nh $TSLA $AAPL https:// t.co/x34afsfQsh'\n",
    "\n",
    "#指定停用词\n",
    "cache_english_stopwords = stopwords.words('english')\n",
    "\n",
    "def text_clean(text):\n",
    "    print('原始数据:', text, '\\n')\n",
    "    \n",
    "    # 去掉HTML标签(e.g. &amp;)\n",
    "    text_no_special_entities = re.sub(r'\\&\\w*;|#\\w*|@\\w*', '', text)\n",
    "    print('去掉特殊标签后的:', text_no_special_entities, '\\n')\n",
    "    \n",
    "    # 去掉一些价值符号\n",
    "    text_no_tickers = re.sub(r'\\$\\w*', '', text_no_special_entities) \n",
    "    print('去掉价值符号后的:', text_no_tickers, '\\n')\n",
    "    \n",
    "    # 去掉超链接\n",
    "    text_no_hyperlinks = re.sub(r'https?:\\/\\/.*\\/\\w*', '', text_no_tickers)\n",
    "    print('去掉超链接后的:', text_no_hyperlinks, '\\n')\n",
    "\n",
    "    # 去掉一些专门名词缩写，简单来说就是字母比较少的词\n",
    "    text_no_small_words = re.sub(r'\\b\\w{1,2}\\b', '', text_no_hyperlinks) \n",
    "    print('去掉专门名词缩写后:', text_no_small_words, '\\n')\n",
    "    \n",
    "    # 去掉多余的空格\n",
    "    text_no_whitespace = re.sub(r'\\s\\s+', ' ', text_no_small_words)\n",
    "    text_no_whitespace = text_no_whitespace.lstrip(' ') \n",
    "    print('去掉空格后的:', text_no_whitespace, '\\n')\n",
    "    \n",
    "    # 分词\n",
    "    tokens = word_tokenize(text_no_whitespace)\n",
    "    print('分词结果:', tokens, '\\n')    \n",
    "          \n",
    "    # 去停用词\n",
    "    list_no_stopwords = [i for i in tokens if i not in cache_english_stopwords]\n",
    "    print('去停用词后结果:', list_no_stopwords, '\\n')\n",
    "    # 过滤后结果\n",
    "    text_filtered =' '.join(list_no_stopwords) # ''.join() would join without spaces between words.\n",
    "    print('过滤后:', text_filtered)\n",
    "\n",
    "text_clean(s)"
   ]
  },
  {
   "cell_type": "code",
   "execution_count": null,
   "metadata": {
    "collapsed": true
   },
   "outputs": [],
   "source": []
  }
 ],
 "metadata": {
  "kernelspec": {
   "display_name": "Python 3",
   "language": "python",
   "name": "python3"
  },
  "language_info": {
   "codemirror_mode": {
    "name": "ipython",
    "version": 3
   },
   "file_extension": ".py",
   "mimetype": "text/x-python",
   "name": "python",
   "nbconvert_exporter": "python",
   "pygments_lexer": "ipython3",
   "version": "3.6.3"
  }
 },
 "nbformat": 4,
 "nbformat_minor": 2
}
